{
 "cells": [
  {
   "cell_type": "code",
   "execution_count": 1,
   "metadata": {
    "collapsed": true
   },
   "outputs": [],
   "source": [
    "import tensorflow as tf\n",
    "import numpy as np"
   ]
  },
  {
   "cell_type": "code",
   "execution_count": 2,
   "metadata": {
    "collapsed": false
   },
   "outputs": [],
   "source": [
    "sess = tf.Session()\n",
    "writer = tf.train.SummaryWriter('./tensor_train100000', sess.graph_def)"
   ]
  },
  {
   "cell_type": "markdown",
   "metadata": {},
   "source": [
    "tf.Session() 과 tf.InteractiveSession() 의 차이는?"
   ]
  },
  {
   "cell_type": "markdown",
   "metadata": {},
   "source": [
    "- 입출력 데이터를 받기 위한 tf.placeholder() 준비"
   ]
  },
  {
   "cell_type": "code",
   "execution_count": 3,
   "metadata": {
    "collapsed": true
   },
   "outputs": [],
   "source": [
    "x_ = tf.placeholder(shape=[None, 2], dtype=tf.float32)\n",
    "y_ = tf.placeholder(shape=[None, 2], dtype=tf.float32)"
   ]
  },
  {
   "cell_type": "markdown",
   "metadata": {},
   "source": [
    "- 활성함수로 relu 사용하는 모델 변수 설정"
   ]
  },
  {
   "cell_type": "code",
   "execution_count": 4,
   "metadata": {
    "collapsed": true
   },
   "outputs": [],
   "source": [
    "w1_relu = tf.Variable(tf.random_normal([2,2]))\n",
    "b1_relu = tf.Variable(tf.zeros([1, 2]))\n",
    "w2_relu = tf.Variable(tf.random_normal([2,2]))\n",
    "b2_relu = tf.Variable(tf.zeros([1,2]))"
   ]
  },
  {
   "cell_type": "markdown",
   "metadata": {},
   "source": [
    "- 활성함수로 sigmoid 사용하는 모델 변수 설정"
   ]
  },
  {
   "cell_type": "code",
   "execution_count": 5,
   "metadata": {
    "collapsed": true
   },
   "outputs": [],
   "source": [
    "w1_sig = tf.Variable(tf.random_normal([2,2]))\n",
    "b1_sig = tf.Variable(tf.zeros([1, 2]))\n",
    "w2_sig = tf.Variable(tf.random_normal([2,2]))\n",
    "b2_sig = tf.Variable(tf.zeros([1,2]))"
   ]
  },
  {
   "cell_type": "markdown",
   "metadata": {},
   "source": [
    "- relu, sigmoid용 은닉층 설정"
   ]
  },
  {
   "cell_type": "code",
   "execution_count": 6,
   "metadata": {
    "collapsed": false
   },
   "outputs": [],
   "source": [
    "hidden_relu = tf.nn.relu(tf.matmul(x_, w1_relu) + b1_relu)\n",
    "hidden_sigmoid = tf.nn.sigmoid(tf.matmul(x_, w1_sig) + b1_sig)"
   ]
  },
  {
   "cell_type": "markdown",
   "metadata": {},
   "source": [
    "- 최종 출력단 설정"
   ]
  },
  {
   "cell_type": "code",
   "execution_count": 7,
   "metadata": {
    "collapsed": true
   },
   "outputs": [],
   "source": [
    "y_relu =tf.matmul(hidden_relu, w2_relu) + b2_relu\n",
    "y_sig = tf.matmul(hidden_sigmoid, w2_sig)+ b2_sig"
   ]
  },
  {
   "cell_type": "code",
   "execution_count": 8,
   "metadata": {
    "collapsed": false
   },
   "outputs": [],
   "source": [
    "cross_entropy_relu =   tf.reduce_mean(tf.nn.softmax_cross_entropy_with_logits(y_relu, y_),0)\n",
    "cross_entropy_sig  =   tf.reduce_mean(tf.nn.softmax_cross_entropy_with_logits(y_sig,y_),0)\n"
   ]
  },
  {
   "cell_type": "code",
   "execution_count": 9,
   "metadata": {
    "collapsed": true
   },
   "outputs": [],
   "source": [
    "cross_entropy_relu_summary = tf.scalar_summary(\"CrossEntropy Relu\", cross_entropy_relu)\n",
    "cross_entropy_sig_summary = tf.scalar_summary(\"CrossEntropy Sigmoid\", cross_entropy_sig)"
   ]
  },
  {
   "cell_type": "code",
   "execution_count": 10,
   "metadata": {
    "collapsed": false
   },
   "outputs": [],
   "source": [
    "optimizer_relu = tf.train.GradientDescentOptimizer(0.1)\n",
    "optimizer_sig = tf.train.GradientDescentOptimizer(0.1)"
   ]
  },
  {
   "cell_type": "code",
   "execution_count": 11,
   "metadata": {
    "collapsed": true
   },
   "outputs": [],
   "source": [
    "train_relu = optimizer_relu.minimize(cross_entropy_relu)\n",
    "train_sig = optimizer_sig.minimize(cross_entropy_sig)"
   ]
  },
  {
   "cell_type": "code",
   "execution_count": 12,
   "metadata": {
    "collapsed": false
   },
   "outputs": [],
   "source": [
    "sess.run(tf.initialize_all_variables())"
   ]
  },
  {
   "cell_type": "code",
   "execution_count": 13,
   "metadata": {
    "collapsed": false
   },
   "outputs": [],
   "source": [
    "merge = tf.merge_all_summaries()\n",
    "for i in range(100000):\n",
    "    result = sess.run([train_relu, train_sig, merge], feed_dict={x_:[[0,0],[0,1],[1,0],[1,1]], y_:[[0,1],[1,0],[1,0],[0,1]]})\n",
    "    writer.add_summary(result[2], i)"
   ]
  },
  {
   "cell_type": "code",
   "execution_count": 16,
   "metadata": {
    "collapsed": false
   },
   "outputs": [
    {
     "name": "stdout",
     "output_type": "stream",
     "text": [
      "[7.3250107e-05, array([1, 0, 0, 1])]\n"
     ]
    }
   ],
   "source": [
    "print sess.run([cross_entropy_relu, tf.argmax(y_relu,1)], feed_dict={x_:[[0,0],[0,1],[1,0],[1,1]], y_:[[0,1],[1,0],[1,0],[0,1]]} )"
   ]
  },
  {
   "cell_type": "code",
   "execution_count": null,
   "metadata": {
    "collapsed": true
   },
   "outputs": [],
   "source": []
  },
  {
   "cell_type": "code",
   "execution_count": 17,
   "metadata": {
    "collapsed": false
   },
   "outputs": [
    {
     "name": "stdout",
     "output_type": "stream",
     "text": [
      "[0.00049795932, array([1, 0, 0, 1])]\n"
     ]
    }
   ],
   "source": [
    "print sess.run([cross_entropy_sig, tf.argmax(y_sig,1)], feed_dict={x_:[[0,0],[0,1],[1,0],[1,1]], y_:[[0,1],[1,0],[1,0],[0,1]]} )"
   ]
  },
  {
   "cell_type": "code",
   "execution_count": null,
   "metadata": {
    "collapsed": true
   },
   "outputs": [],
   "source": []
  },
  {
   "cell_type": "code",
   "execution_count": null,
   "metadata": {
    "collapsed": true
   },
   "outputs": [],
   "source": []
  }
 ],
 "metadata": {
  "kernelspec": {
   "display_name": "Python 2",
   "language": "python",
   "name": "python2"
  },
  "language_info": {
   "codemirror_mode": {
    "name": "ipython",
    "version": 2
   },
   "file_extension": ".py",
   "mimetype": "text/x-python",
   "name": "python",
   "nbconvert_exporter": "python",
   "pygments_lexer": "ipython2",
   "version": "2.7.6"
  }
 },
 "nbformat": 4,
 "nbformat_minor": 0
}
